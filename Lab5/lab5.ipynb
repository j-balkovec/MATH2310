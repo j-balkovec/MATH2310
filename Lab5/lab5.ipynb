{
 "cells": [
  {
   "cell_type": "code",
   "execution_count": 3,
   "metadata": {},
   "outputs": [
    {
     "name": "stdout",
     "output_type": "stream",
     "text": [
      "                   Unnamed: 0 Unnamed: 1   Unnamed: 2 Unnamed: 3 Employed  \\\n",
      "0                         NaN       Tota  l     Perc.        NaN      NaN   \n",
      "1                         NaN      Numbe  r     dist.     Number  Percent   \n",
      "2              21 to 64 years   3,391,40  5     100.0  2,532,290     74.7   \n",
      "3  Not a high school graduate     278,53  0       8.2    149,300     53.6   \n",
      "4        High school graduate     803,32  5      23.7    563,420     70.1   \n",
      "\n",
      "   full-time      in 1999  Unnamed: 7    Relative  \n",
      "0        NaN          NaN      Median    earnings  \n",
      "1     Number  Percent  ea  rnings  (U  S Med=100)  \n",
      "2  1,735,245     51.2   $      36,662       112.1  \n",
      "3     81,375     29.2   $      22,852        69.8  \n",
      "4    385,465     48.0   $      30,628        93.6  \n"
     ]
    }
   ],
   "source": [
    "# Read in the data\n",
    "import pandas as pd\n",
    "\n",
    "def read_data(filename: str) -> pd.DataFrame:\n",
    "    delimiter = r\"\\s{2,}\"\n",
    "    column_widths = [27, 12, 12, 12, 12, 12, 12, 10, 10]\n",
    "\n",
    "    # Read the file into a DataFrame\n",
    "    df = pd.read_fwf(filename, widths=column_widths, skiprows=3)\n",
    "    return df\n",
    "  \n",
    "df = read_data('census.txt')\n",
    "print(df.head())"
   ]
  },
  {
   "cell_type": "code",
   "execution_count": null,
   "metadata": {},
   "outputs": [],
   "source": [
    "import pandas as pd\n",
    "\n",
    "# Define the data for each section\n",
    "\n",
    "\"\"\"__note__: \n",
    "      - append '$' to the beginning of the median earnings columns\n",
    "\"\"\"\n",
    "AGE_GROUP = [\"21 to 64 years\", \"21 to 24 years\", \"25 to 34 years\", \"35 to 44 years\", \"45 to 54 years\", \"55 to 64 years\"]\n",
    "TOTAL_PERCENTAGE = [100.0, 100.0, 100.0, 100.0, 100.0, 100.0]\n",
    "\n",
    "all_data = {\n",
    "    \"Age Group\": AGE_GROUP,\n",
    "    \"Total Number\": [3391405, 290115, 809400, 966115, 835590, 490185],\n",
    "    \"Total Percentage\": TOTAL_PERCENTAGE,\n",
    "    \"Total Employed Full-Time in 1999\": [2532290, 208580, 625200, 760885, 659135, 278495],\n",
    "    \"Total Employed Full-Time Percentage\": [74.7, 71.9, 77.2, 78.8, 78.9, 56.8],\n",
    "    \"Total Worked Year-Round\": [1735245, 96230, 423030, 536985, 485010, 193995],\n",
    "    \"Total Relative Earnings (US Med=100)\": [112.1, 65.3, 97.3, 120.7, 126.6, 122.9],\n",
    "    \"Total Median Earnings\": [36,662, 22,852, 30,628, 39,494, 41,434, 40,211]\n",
    "}\n",
    "\n",
    "men_data = {\n",
    "    \"Age Group\": AGE_GROUP,\n",
    "    \"Total Number\": [1678835, 142410, 403285, 477290, 413090, 242760],\n",
    "    \"Total Percentage\": TOTAL_PERCENTAGE,\n",
    "    \"Total Employed Full-Time in 1999\": [1364380, 107350, 341950, 409990, 349535, 155555],\n",
    "    \"Total Employed Full-Time Percentage\": [81.3, 75.4, 84.8, 85.9, 84.6, 64.1],\n",
    "    \"Total Worked Year-Round\": [1046585, 54900, 255140, 330145, 286780, 119620],\n",
    "    \"Total Relative Earnings (US Med=100)\": [126.8, 68.0, 108.3, 135.8, 147.1, 142.9],\n",
    "    \"Total Median Earnings\": [41,471, 22,252, 35,425, 44,445, 48,124, 46,761]\n",
    "}\n",
    "\n",
    "women_data = {\n",
    "    \"Age Group\": AGE_GROUP,\n",
    "    \"Total Number\": [1712570, 147705, 406110, 488830, 422500, 247425],\n",
    "    \"Total Percentage\": TOTAL_PERCENTAGE,\n",
    "    \"Total Employed Full-Time in 1999\": [1167910, 101230, 283250, 350890, 309600, 122940],\n",
    "    \"Total Employed Full-Time Percentage\": [68.2, 68.5, 69.7, 71.8, 73.3, 49.7],\n",
    "    \"Total Worked Year-Round\": [688660, 41330, 167890, 206835, 198225, 74375],\n",
    "    \"Total Relative Earnings (US Med=100)\": [93.4, 61.7, 87.3, 96.7, 102.9, 96.1],\n",
    "    \"Total Median Earnings\": [30,553, 20,185, 28,557, 31,631, 33,671, 31,443]\n",
    "}\n",
    "\n",
    "# Create DataFrames\n",
    "all_df = pd.DataFrame(all_data)\n",
    "men_df = pd.DataFrame(men_data)\n",
    "women_df = pd.DataFrame(women_data)\n",
    "\n",
    "# Print DataFrames\n",
    "print(\"All DataFrame:\")\n",
    "print(all_df)\n"
   ]
  }
 ],
 "metadata": {
  "kernelspec": {
   "display_name": "Python 3",
   "language": "python",
   "name": "python3"
  },
  "language_info": {
   "codemirror_mode": {
    "name": "ipython",
    "version": 3
   },
   "file_extension": ".py",
   "mimetype": "text/x-python",
   "name": "python",
   "nbconvert_exporter": "python",
   "pygments_lexer": "ipython3",
   "version": "3.11.2"
  }
 },
 "nbformat": 4,
 "nbformat_minor": 2
}
